{
 "cells": [
  {
   "cell_type": "markdown",
   "id": "d64e7a17",
   "metadata": {},
   "source": [
    "# The matrix elements of angular momentum"
   ]
  },
  {
   "cell_type": "markdown",
   "id": "95590beb",
   "metadata": {},
   "source": [
    "1. Build the function `j_mat` that takes as input the variable $j$, and returns the matrix elements of angular momentum in quantum mechanics\n",
    "\n",
    "$$(J^2)_{a,b} = j(j+1) \\delta_{a,b}$$\n",
    "$$(J_z)_{a,b} = m(b,j) \\delta_{a,b}$$ \n",
    "$$(J_+)_{a,b} = \\sqrt{j(j+1)-m(b,j)[m(b,j)+1]} \\delta_{a,b+1}$$ \n",
    "$$(J_-)_{a,b} = \\sqrt{j(j+1)-m(b,j)[m(b,j)-1]} \\delta_{a,b-1}$$ \n",
    "\n",
    "where $a$ and $b$ are integer numbers in $[0,2 j]$ (both 0 and $2 j$ are included), and we have defined $m(b,j)=b-j$.\n",
    "\n",
    "The delta function has the following definition\n",
    "$\\delta_{a,b} = 1$ if $a=b$; $\\delta_{a,b} = 0$ if $a\\neq b$.\n",
    "\n",
    "Print the four matrices $J^2$, $J_z$, $J_+$ and $J_-$ for $j = 1$ and for $j = 1/2$."
   ]
  },
  {
   "cell_type": "code",
   "execution_count": 1,
   "id": "071e2cd3",
   "metadata": {},
   "outputs": [],
   "source": [
    "import numpy as np"
   ]
  },
  {
   "cell_type": "code",
   "execution_count": 2,
   "id": "845bfd41",
   "metadata": {},
   "outputs": [],
   "source": [
    "def m(b,j):\n",
    "    return b-j\n",
    "\n",
    "\n",
    "def j_mat(j):\n",
    "    ndim = int(2*j+1)\n",
    "    J2 = np.zeros((ndim,ndim),dtype='f8')\n",
    "    Jz = np.zeros((ndim,ndim),dtype='f8')\n",
    "    Jp = np.zeros((ndim,ndim),dtype='f8')\n",
    "    Jm = np.zeros((ndim,ndim),dtype='f8')\n",
    "    #\n",
    "    for a in range(ndim):\n",
    "        for b in range(ndim):\n",
    "            if a == b :\n",
    "                J2[a,b]=j*(j+1)\n",
    "                Jz[a,b]=m(b,j)\n",
    "            if a == b+1 : \n",
    "                Jp[a,b]=np.sqrt(j*(j+1)-m(b,j)*(m(b,j)+1))\n",
    "            if a == b-1 : \n",
    "                Jm[a,b]=np.sqrt(j*(j+1)-m(b,j)*(m(b,j)-1))\n",
    "\n",
    "    return J2, Jz, Jp, Jm"
   ]
  },
  {
   "cell_type": "code",
   "execution_count": 3,
   "id": "ed23f293",
   "metadata": {},
   "outputs": [
    {
     "name": "stdout",
     "output_type": "stream",
     "text": [
      "j  = 1\n",
      "J^2 = \n",
      "[[2. 0. 0.]\n",
      " [0. 2. 0.]\n",
      " [0. 0. 2.]]\n",
      "J_z = \n",
      "[[-1.  0.  0.]\n",
      " [ 0.  0.  0.]\n",
      " [ 0.  0.  1.]]\n",
      "J_+ = \n",
      "[[0.         0.         0.        ]\n",
      " [1.41421356 0.         0.        ]\n",
      " [0.         1.41421356 0.        ]]\n",
      "J_- = \n",
      "[[0.         1.41421356 0.        ]\n",
      " [0.         0.         1.41421356]\n",
      " [0.         0.         0.        ]]\n",
      " \n",
      "j  = 0.5\n",
      "J^2 = \n",
      "[[0.75 0.  ]\n",
      " [0.   0.75]]\n",
      "J_z = \n",
      "[[-0.5  0. ]\n",
      " [ 0.   0.5]]\n",
      "J_+ = \n",
      "[[0. 0.]\n",
      " [1. 0.]]\n",
      "J_- = \n",
      "[[0. 1.]\n",
      " [0. 0.]]\n",
      " \n"
     ]
    }
   ],
   "source": [
    "for j in [1,0.5]:\n",
    "    J2, Jz, Jp, Jm = j_mat(j)\n",
    "    print(f\"j  = {j}\")\n",
    "    print(f\"J^2 = \\n{J2}\")\n",
    "    print(f\"J_z = \\n{Jz}\")\n",
    "    print(f\"J_+ = \\n{Jp}\")\n",
    "    print(f\"J_- = \\n{Jm}\")\n",
    "    print(\" \")"
   ]
  },
  {
   "cell_type": "markdown",
   "id": "a9b4625c",
   "metadata": {},
   "source": [
    "### 2. For all values of j = $1/2, 1, 3/2, 2, 5/2, 3$ verify the following commutation relations\n",
    "$$[J_x,J_y]=iJ_z$$ \n",
    "$$[J_z,J_x]=iJ_y$$ \n",
    "$$[J_y,J_z]=iJ_x$$ \n",
    "$$[J_z,J_+]=J_+$$ \n",
    "$$[J_z,J_-]=-J_-$$ \n",
    "$$[J_+,J_-]=2J_z$$ \n",
    "$$[J^2,J_z]=0$$ \n",
    "$$[J^2,J_+]=0$$ \n",
    "$$[J^2,J_-]=0$$ \n",
    "where $J_x=\\frac{J_+ + J_-}{2}$, $J_y=\\frac{J_+ - J_-}{2i}$, and $i$ is the imaginary unit. \n",
    "The commutator between $A$ and $B$ is defined as the following matrix product:\n",
    "$[A,B]=A B - B A$."
   ]
  },
  {
   "cell_type": "code",
   "execution_count": 2,
   "id": "262baf66",
   "metadata": {},
   "outputs": [],
   "source": [
    "#### YOUR CODE HERE ####\n",
    "\n",
    "\n",
    "\n",
    "\n",
    "########################"
   ]
  },
  {
   "cell_type": "markdown",
   "id": "1e16b4e6",
   "metadata": {},
   "source": [
    "3. Build the follwing matrices \n",
    "$$ S^2 = J^2(j=1/2) \\otimes I(3) $$\n",
    "$$ S_z = J_z(j=1/2) \\otimes I(3) $$\n",
    "$$ S_+ = J_+(j=1/2) \\otimes I(3) $$\n",
    "$$ S_- = J_-(j=1/2) \\otimes I(3) $$\n",
    "$$ S_x = (S_+ + S_-)/2 $$\n",
    "$$ S_y = (S_+ - S_-)/(2i) $$\n",
    "$$ L^2 = I(2) \\otimes J^2(j=1) $$\n",
    "$$ L_z = I(2) \\otimes J_z(j=1) $$\n",
    "$$ L_+ = I(2) \\otimes J_+(j=1) $$\n",
    "$$ L_- = I(2) \\otimes J_-(j=1) $$\n",
    "$$ L_x = (L_+ + L_-)/2 $$\n",
    "$$ L_y = (L_+ - L_-)/(2i) $$\n",
    "$$ K_x = S_x + L_x $$\n",
    "$$ K_y = S_y + L_y $$\n",
    "$$ K_z = S_z + L_z $$\n",
    "$$ K^2 = K_xK_x + K_yK_y + K_zK_z $$\n",
    "\n",
    "The Kronecker product between two matrices, i.e. $A \\otimes B$, can be evaluated with the numpy function `kron(A,B)`. The identity matrix of size $n$, i.e. $I(n)$, can be evaluated using the numpy function `eye(n)`."
   ]
  },
  {
   "cell_type": "code",
   "execution_count": 5,
   "id": "e989eb29",
   "metadata": {},
   "outputs": [],
   "source": [
    "J2, Jz, Jp, Jm = j_mat(0.5)\n",
    "S2 = np.kron(J2,np.eye(3))\n",
    "Sz = np.kron(Jz,np.eye(3))\n",
    "Sp = np.kron(Jp,np.eye(3))\n",
    "Sm = np.kron(Jm,np.eye(3))\n",
    "Sx = (Sp+Sm)/2\n",
    "Sy = (Sp-Sm)/2j\n",
    "J2, Jz, Jp, Jm = j_mat(1)\n",
    "L2 = np.kron(np.eye(2),J2)\n",
    "Lz = np.kron(np.eye(2),Jz)\n",
    "Lp = np.kron(np.eye(2),Jp)\n",
    "Lm = np.kron(np.eye(2),Jm)\n",
    "Lx = (Lp+Lm)/2\n",
    "Ly = (Lp-Lm)/2j\n",
    "Kx = Sx + Lx\n",
    "Ky = Sy + Ly\n",
    "Kz = Sz + Lz\n",
    "K2 = Kx@Kx + Ky@Ky + Kz@Kz"
   ]
  },
  {
   "cell_type": "markdown",
   "id": "6c9d694e",
   "metadata": {},
   "source": [
    "### 4. Verify that $K^2$, $K_z$, $S^2$, $L^2$ is a set of commuting matrices, i.e. that $[A,B]=0$ for any matrix $A$ and matrix $B$ in the set."
   ]
  },
  {
   "cell_type": "code",
   "execution_count": 1,
   "id": "1fd60a0d",
   "metadata": {},
   "outputs": [],
   "source": [
    "#### YOUR CODE HERE ####\n",
    "\n",
    "\n",
    "\n",
    "\n",
    "########################"
   ]
  }
 ],
 "metadata": {
  "kernelspec": {
   "display_name": "Python 3 (ipykernel)",
   "language": "python",
   "name": "python3"
  },
  "language_info": {
   "codemirror_mode": {
    "name": "ipython",
    "version": 3
   },
   "file_extension": ".py",
   "mimetype": "text/x-python",
   "name": "python",
   "nbconvert_exporter": "python",
   "pygments_lexer": "ipython3",
   "version": "3.8.8"
  }
 },
 "nbformat": 4,
 "nbformat_minor": 5
}
