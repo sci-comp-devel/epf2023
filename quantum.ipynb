{
 "cells": [
  {
   "cell_type": "markdown",
   "metadata": {},
   "source": [
    "Quantum\n",
    "-------\n"
   ]
  },
  {
   "cell_type": "markdown",
   "metadata": {},
   "source": [
    "The Hamiltonian for a system with two quantum levels ($\\left|1\\right\\rangle$,$\\left|2\\right\\rangle$) is \n",
    "\n",
    "$\\hat{H}= \\left(\\left|1\\right\\rangle\\left\\langle1\\right| - \\left|2\\right\\rangle\\left\\langle2\\right| + \\left|1\\right\\rangle\\left\\langle2\\right| + \\left|2\\right\\rangle\\left\\langle1\\right|\\right)$.\n",
    "\n",
    "The matrix $H$ that represents the operator $\\hat{H}$ on the basis $\\left\\{\\left|1\\right\\rangle, \\left|2\\right\\rangle \\right\\}$, is: \n",
    "\n",
    "$H_{ij}=\\left\\langle i \\right | \\hat{H} \\left| j \\right\\rangle$\n",
    "\n",
    "where $i$ and $j$ are indexes of the basis vectors, and \n",
    "\n",
    "$\\left\\langle i | j \\right\\rangle = \\delta_{ij}$.\n",
    "\n",
    "The matrix $H$ is therefore: \n",
    "\n",
    "$H = \\left(\\begin{array}{cc} 1&1\\\\1&-1\\end{array}\\right)$\n",
    "\n",
    "Find the eigenvalues and eigenvectors of $H$, and express them as linear combination of the two quantum states $\\left|1\\right\\rangle$ and $\\left|2\\right\\rangle$."
   ]
  },
  {
   "cell_type": "code",
   "execution_count": 1,
   "metadata": {},
   "outputs": [],
   "source": [
    "import numpy as np"
   ]
  },
  {
   "cell_type": "code",
   "execution_count": 2,
   "metadata": {},
   "outputs": [
    {
     "name": "stdout",
     "output_type": "stream",
     "text": [
      "[[ 1.+0.j  1.+0.j]\n",
      " [ 1.+0.j -1.+0.j]]\n"
     ]
    }
   ],
   "source": [
    "# define matrix\n",
    "H = np.zeros(shape=(2,2),dtype=\"c16\") \n",
    "H[0,0] = 1 # <1|H|1>\n",
    "H[1,0] = 1 # <2|H|1>\n",
    "H[0,1] = 1 # <1|H|2>\n",
    "H[1,1] = -1 # <2|H|2>\n",
    "print(H)"
   ]
  },
  {
   "cell_type": "code",
   "execution_count": 3,
   "metadata": {},
   "outputs": [
    {
     "name": "stdout",
     "output_type": "stream",
     "text": [
      "[ 1.41421356+0.j -1.41421356+0.j]\n",
      "[[ 0.92387953+0.j -0.38268343+0.j]\n",
      " [ 0.38268343-0.j  0.92387953+0.j]]\n"
     ]
    }
   ],
   "source": [
    "# find the eigenvalues and eigenvectors of H\n",
    "ev, ew = np.linalg.eig(H)\n",
    "print(ev)\n",
    "print(ew)"
   ]
  },
  {
   "cell_type": "code",
   "execution_count": 4,
   "metadata": {},
   "outputs": [
    {
     "name": "stdout",
     "output_type": "stream",
     "text": [
      "Eigenvalue:  (1.414213562373095+0j) , Eigenvector:  [0.92387953+0.j 0.38268343-0.j]\n",
      "Eigenvalue:  (-1.4142135623730951+0j) , Eigenvector:  [-0.38268343+0.j  0.92387953+0.j]\n"
     ]
    }
   ],
   "source": [
    "for i in range(2) :\n",
    "    print(\"Eigenvalue: \", ev[i],\", Eigenvector: \",ew[:,i] )"
   ]
  },
  {
   "cell_type": "code",
   "execution_count": 5,
   "metadata": {},
   "outputs": [
    {
     "name": "stdout",
     "output_type": "stream",
     "text": [
      "Eigenvalue: (1.414213562373095+0j), Eigenvector: (0.9238795325112867+0j) |1> + (0.3826834323650898-0j) |2>\n",
      "Eigenvalue: (-1.4142135623730951+0j), Eigenvector: (-0.3826834323650897+0j) |1> + (0.9238795325112867+0j) |2>\n"
     ]
    }
   ],
   "source": [
    "for i in range(2) :\n",
    "    print(f\"Eigenvalue: {ev[i]}, Eigenvector: {ew[0,i]} |1> + {ew[1,i]} |2>\")"
   ]
  },
  {
   "cell_type": "markdown",
   "metadata": {},
   "source": [
    "Pauli matrices\n",
    "--------------"
   ]
  },
  {
   "cell_type": "markdown",
   "metadata": {},
   "source": [
    "Consider the following Pauli matrices:\n",
    "\n",
    "$\\sigma_x = \\left(\\begin{array}{cc} 0&1\\\\1&0\\end{array}\\right)$\n",
    "\n",
    "$\\sigma_y = \\left(\\begin{array}{cc} 0&-i\\\\i&0\\end{array}\\right)$\n",
    "\n",
    "$\\sigma_z = \\left(\\begin{array}{cc} 1&0\\\\0&-1\\end{array}\\right)$\n",
    "\n",
    "Show that the eigenvectors of $\\sigma_z$ are also eigenvectors of $S=\\sigma_x^2+\\sigma_y^2+\\sigma_z^2$, but they are not eigenvectors of $\\sigma_x$ and $\\sigma_y$. \n",
    "\n",
    "Verify the commutation rule: $\\left[\\sigma_x,\\sigma_y\\right]=\\sigma_x\\sigma_y-\\sigma_y\\sigma_x=2i\\sigma_z$."
   ]
  },
  {
   "cell_type": "code",
   "execution_count": 6,
   "metadata": {},
   "outputs": [],
   "source": [
    "# define matrices\n",
    "sx = np.array([[0,1],[1,0]],dtype=\"c16\")\n",
    "sy = np.array([[0,-1j],[1j,0]],dtype=\"c16\")\n",
    "sz = np.array([[1,0],[0,-1]],dtype=\"c16\")\n",
    "S = sx@sx + sy@sy + sz@sz"
   ]
  },
  {
   "cell_type": "code",
   "execution_count": 7,
   "metadata": {},
   "outputs": [],
   "source": [
    "# eigenvalues and eigenvectors of sz\n",
    "ev, ew = np.linalg.eig(sz)"
   ]
  },
  {
   "cell_type": "code",
   "execution_count": 8,
   "metadata": {},
   "outputs": [
    {
     "name": "stdout",
     "output_type": "stream",
     "text": [
      "sx [1.+0.j 0.+0.j] [0.+0.j 1.+0.j]\n",
      "sx [0.+0.j 1.+0.j] [1.+0.j 0.+0.j]\n",
      "sy [1.+0.j 0.+0.j] [0.+0.j 0.+1.j]\n",
      "sy [0.+0.j 1.+0.j] [0.-1.j 0.+0.j]\n",
      "sz [1.+0.j 0.+0.j] [1.+0.j 0.+0.j]\n",
      "sz [0.+0.j 1.+0.j] [ 0.+0.j -1.+0.j]\n",
      "S [1.+0.j 0.+0.j] [3.+0.j 0.+0.j]\n",
      "S [0.+0.j 1.+0.j] [0.+0.j 3.+0.j]\n"
     ]
    }
   ],
   "source": [
    "# check \n",
    "print(\"sx\",ew[:,0],sx@ew[:,0])\n",
    "print(\"sx\",ew[:,1],sx@ew[:,1])\n",
    "\n",
    "print(\"sy\",ew[:,0],sy@ew[:,0])\n",
    "print(\"sy\",ew[:,1],sy@ew[:,1])\n",
    "\n",
    "print(\"sz\",ew[:,0],sz@ew[:,0])\n",
    "print(\"sz\",ew[:,1],sz@ew[:,1])\n",
    "\n",
    "print(\"S\",ew[:,0],S@ew[:,0])\n",
    "print(\"S\",ew[:,1],S@ew[:,1])"
   ]
  },
  {
   "cell_type": "code",
   "execution_count": 9,
   "metadata": {},
   "outputs": [
    {
     "data": {
      "text/plain": [
       "True"
      ]
     },
     "execution_count": 9,
     "metadata": {},
     "output_type": "execute_result"
    }
   ],
   "source": [
    "# verify the commutation rule\n",
    "np.allclose(sx@sy-sy@sx,2j*sz)"
   ]
  },
  {
   "cell_type": "code",
   "execution_count": null,
   "metadata": {},
   "outputs": [],
   "source": []
  }
 ],
 "metadata": {
  "kernelspec": {
   "display_name": "Python 3 (ipykernel)",
   "language": "python",
   "name": "python3"
  },
  "language_info": {
   "codemirror_mode": {
    "name": "ipython",
    "version": 3
   },
   "file_extension": ".py",
   "mimetype": "text/x-python",
   "name": "python",
   "nbconvert_exporter": "python",
   "pygments_lexer": "ipython3",
   "version": "3.8.8"
  }
 },
 "nbformat": 4,
 "nbformat_minor": 4
}
