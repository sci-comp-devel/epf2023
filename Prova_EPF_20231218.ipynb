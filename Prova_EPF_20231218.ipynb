{
 "cells": [
  {
   "cell_type": "markdown",
   "metadata": {},
   "source": [
    "## Prova pratica 18 Dicembre 2023"
   ]
  },
  {
   "cell_type": "markdown",
   "metadata": {},
   "source": [
    "### Ricerca dei multipli di un numero primo nella successione di Fibonacci."
   ]
  },
  {
   "cell_type": "markdown",
   "metadata": {},
   "source": [
    "Data la successione (Fibonacci) di numeri interi $\\,n_0,n_1,n_2, \\dots\\,$\n",
    "\n",
    "\\begin{align}\n",
    "n_0&=0\\\\\n",
    "n_1&=1\\\\\n",
    "&\\cdots \\\\\n",
    "n_{j+1} &= n_j + n_{j-1}\\,,\\qquad j=2,3,\\dots\n",
    "\\end{align}\n",
    "\n",
    "- Scrivere una funzione python che genera un array `Numpy` con i primi $\\,M(+1)\\,$\n",
    "numeri di Fibonacci e utilizzarla in uno script che conta tra questi quanti sono \n",
    "i multipli di un numero primo indicato (esempio $\\,k=3\\,$ oppure $\\,k=5\\,$, etc.) \n",
    "salvando i multipli trovati in una lista.\n",
    "\n",
    "- Rappresentare in un grafico la funzione $\\,f(j)=\\log\\left(n_j\\right)\\,$ con $\\,j\\,$ sull'asse $x$ e \n",
    "$f(j)$ sull'asse $y$, con i valori corrispondenti ai multipli di $\\,k\\,$ evidenziati da un *marker* (ad esempio un asterisco)."
   ]
  },
  {
   "cell_type": "markdown",
   "metadata": {},
   "source": [
    "### Approssimazione della funzione $\\cos(x)$"
   ]
  },
  {
   "cell_type": "markdown",
   "metadata": {},
   "source": [
    "- Definire 3 funzioni in python\n",
    "`func_1` :  $ 1-\\tfrac{1}{2}\\cdot x^2 $  \n",
    "`func_2` :  $ 1-\\tfrac{1}{2}\\cdot x^2 + \\tfrac{1}{24} \\cdot  x^4 $  \n",
    "`func_3` :  $ 1-\\tfrac{1}{2}\\cdot x^2 + \\tfrac{1}{24} \\cdot  x^4 -\\tfrac{1}{720} \\cdot  x^6 $  \n",
    "\n",
    "- Discretizzare l’asse $x$ da $0$ a $\\pi$  usando 100 punti\n",
    "\n",
    "- Campionare le tre funzioni usando i 100 valori definiti al punto precedente.\n",
    "\n",
    "- Plottare i campionamenti delle tre funzioni in funzione di $x$.\n",
    "\n",
    "- Verificare che per ogni valore di $x$, `func_3` approssima al meglio $\\cos(x)$, \n",
    "  cioè si verifichi che per ogni valore di $x$  \n",
    "  |`func_3` $(x)- \\cos(x)$| < | `func_2`$(x) - \\cos(x)$|  \n",
    "  e che  \n",
    "  |`func_3` $(x)- \\cos(x)$| < | `func_1`$(x) - \\cos(x)$|   \n",
    "\n",
    "- Plottare le tre deviazioni [`func_*`$(x) -\\cos(x)$] inserendo per ciascuna nel grafico il valore dello scarto quadratico medio e il valore della deviazione massima nell'intervallo $ [0,\\pi] $."
   ]
  },
  {
   "cell_type": "code",
   "execution_count": null,
   "metadata": {},
   "outputs": [],
   "source": []
  }
 ],
 "metadata": {
  "anaconda-cloud": {},
  "kernelspec": {
   "display_name": "Python 3 (ipykernel)",
   "language": "python",
   "name": "python3"
  },
  "language_info": {
   "codemirror_mode": {
    "name": "ipython",
    "version": 3
   },
   "file_extension": ".py",
   "mimetype": "text/x-python",
   "name": "python",
   "nbconvert_exporter": "python",
   "pygments_lexer": "ipython3",
   "version": "3.8.8"
  }
 },
 "nbformat": 4,
 "nbformat_minor": 2
}
